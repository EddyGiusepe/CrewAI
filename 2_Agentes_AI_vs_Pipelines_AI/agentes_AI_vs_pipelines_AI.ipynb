{
 "cells": [
  {
   "cell_type": "markdown",
   "metadata": {},
   "source": [
    "# <h1 align=\"center\"><font color=\"red\">Agentes de IA vs. Pipelines de IA - Um guia prático para programar sua aplicação de LLM</font></h1>"
   ]
  },
  {
   "cell_type": "markdown",
   "metadata": {},
   "source": [
    "<font color=\"pink\">Senior Data Scientist.: Dr. Eddy Giusepe Chirinos Isidro</font>"
   ]
  },
  {
   "cell_type": "markdown",
   "metadata": {},
   "source": [
    "Usamos o ``CrewAI`` para criar aplicativos que demonstram como escolher a arquitetura certa para sua aplicação ``LLM``.\n",
    "\n",
    "Podemos pensar em um ``agente de IA`` como um ``LLM`` com acesso a ferramentas externas; ele funciona em um loop, tomando decisões sobre como se comportar e quais ferramentas usar em cada iteração.\n",
    "\n",
    "Ao fazer isso, o agente pode resolver problemas muito mais complexos do que um aplicativo ``LLM`` convencional. (Expliquei como construir um agente desse tipo do zero no artigo [Como construir um agente ReAct AI com Claude 3.5 e Python](https://ai.gopubby.com/how-to-build-a-react-ai-agent-with-claude-3-5-and-python-95423f798640))\n",
    "\n",
    "``Agentes de IA`` são poderosos e estão muito além de um aplicativo de bate-papo convencional. Mas nem sempre são a solução certa.\n",
    "\n",
    "<font color=\"orange\">Às vezes, uma sequência de funções mais convencionais é mais apropriada. Podemos pensar nesse tipo de aplicação como um ``pipeline``, onde uma solução é desenvolvida passando a saída de uma função como entrada para a próxima.</font>\n",
    "\n",
    "Neste artigo, exploraremos o uso de ``agentes`` e ``pipelines`` de IA e para quais tipos de aplicações eles são mais adequados. Usaremos a estrutura de código aberto ``CrewAI`` para criar a lógica do ``LLM`` e construir um front-end simples em ``Streamlit`` para um aplicativo online."
   ]
  },
  {
   "cell_type": "markdown",
   "metadata": {},
   "source": [
    "# <font color=\"gree\">Aplicativos para agentes e aplicativos para pipelines</font>"
   ]
  },
  {
   "cell_type": "markdown",
   "metadata": {},
   "source": [
    "Vamos pensar em alguns aplicativos diferentes. \n",
    "\n",
    "Um cliente acessa o site de um fabricante para resolver um problema com sua máquina de lavar. Ele é recebido por um ``agente de IA`` que quer ajudar. Qual é a marca e o modelo da máquina? Quais são os sintomas? As roupas ainda estão sujas? Há água no chão? Ela não centrifuga?\n",
    "\n",
    "Há uma série de perguntas que o agente pode fazer para resolver qualquer problema do cliente. ``E as perguntas subsequentes dependerão das respostas anteriores.``\n",
    "\n",
    "Nesse caso, um ``agente de IA`` é uma ótima solução. Ele precisa trabalhar em loop, coletando informações, até que esteja em condições de sugerir uma solução ou, caso fique sem ideias, repassar o problema a um operador humano.\n",
    "\n",
    "O funcionamento deste tipo de agente está representado no diagrama abaixo.\n",
    "\n",
    "![](https://datavizandai.github.io/assets/images/agentpipeline/reactflow.png)"
   ]
  },
  {
   "cell_type": "markdown",
   "metadata": {},
   "source": [
    "``Aqui está outro cenário.``\n",
    "\n",
    "A diretora de vendas de uma pequena empresa que administra cafeterias em Londres quer produzir um relatório sobre o desempenho de várias filiais. Ela precisa verificar regularmente como o desempenho difere entre as lojas localizadas no distrito financeiro da City e o West End, mais voltado para o turismo e o varejo. Ela tem planilhas detalhando as vendas de cada filial. Ela quer consolidar os números e escrever um relatório para sua diretoria, que inclua gráficos de fácil compreensão que mostrem o desempenho relativo de cada cafeteria.\n",
    "\n",
    "Nesse caso, o diretor poderia usar um aplicativo LLM para combinar os números de vendas mensais em uma única entidade, escrever um comentário sobre o desempenho dos diferentes pontos de venda, produzir os gráficos apropriados e combinar esses elementos em um único relatório. O processo é o mesmo todos os meses e a única variável são os valores nas planilhas. Portanto, embora o conteúdo do relatório varie, o processo é o mesmo.\n",
    "\n",
    "``Diferentemente do exemplo agêntico, este é um fluxo sequencial simples.``\n",
    "\n",
    "\n",
    "![](https://datavizandai.github.io/assets/images/agentpipeline/pipelineflow.png)"
   ]
  },
  {
   "cell_type": "markdown",
   "metadata": {},
   "source": [
    "Um ``agente de IA`` é a solução ideal para o primeiro problema. Dispondo de informações adequadas sobre o funcionamento da máquina de lavar, seus potenciais modos de falha e os sintomas dessas falhas, o agente pode buscar informações de forma inteligente e formular novas perguntas em resposta às informações do cliente até encontrar uma solução. Para esse tipo de problema, o ``agente de IA`` oferece uma solução flexível e inteligente.\n",
    "\n",
    "Um relatório de vendas é um assunto diferente. Os números de vendas mudam e pode ser que um relatório encontre diferenças no desempenho dependendo da época do ano e da frequência de turistas ou trabalhadores de escritório.\n",
    "\n",
    "Portanto, embora seja necessária uma visão inteligente desses números variáveis, os processos para a criação do relatório são os mesmos. Consolidar os números; analisar os resultados de vendas; criar os gráficos; e, por fim, redigir o relatório completo.\n",
    "\n",
    "Você pode escrever um prompt para um agente que o oriente a seguir as etapas necessárias, mas um resultado mais consistente pode vir da criação de uma série de tarefas em que a saída de uma alimenta a entrada da próxima."
   ]
  },
  {
   "cell_type": "code",
   "execution_count": null,
   "metadata": {
    "vscode": {
     "languageId": "plaintext"
    }
   },
   "outputs": [],
   "source": []
  },
  {
   "cell_type": "code",
   "execution_count": null,
   "metadata": {
    "vscode": {
     "languageId": "plaintext"
    }
   },
   "outputs": [],
   "source": []
  },
  {
   "cell_type": "code",
   "execution_count": null,
   "metadata": {
    "vscode": {
     "languageId": "plaintext"
    }
   },
   "outputs": [],
   "source": []
  },
  {
   "cell_type": "code",
   "execution_count": null,
   "metadata": {
    "vscode": {
     "languageId": "plaintext"
    }
   },
   "outputs": [],
   "source": []
  },
  {
   "cell_type": "code",
   "execution_count": null,
   "metadata": {
    "vscode": {
     "languageId": "plaintext"
    }
   },
   "outputs": [],
   "source": []
  },
  {
   "cell_type": "code",
   "execution_count": null,
   "metadata": {
    "vscode": {
     "languageId": "plaintext"
    }
   },
   "outputs": [],
   "source": []
  },
  {
   "cell_type": "code",
   "execution_count": null,
   "metadata": {
    "vscode": {
     "languageId": "plaintext"
    }
   },
   "outputs": [],
   "source": []
  },
  {
   "cell_type": "code",
   "execution_count": null,
   "metadata": {
    "vscode": {
     "languageId": "plaintext"
    }
   },
   "outputs": [],
   "source": []
  }
 ],
 "metadata": {
  "language_info": {
   "name": "python"
  }
 },
 "nbformat": 4,
 "nbformat_minor": 2
}
